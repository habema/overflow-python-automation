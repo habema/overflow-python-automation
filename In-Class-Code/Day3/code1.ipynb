{
 "cells": [
  {
   "cell_type": "code",
   "execution_count": 38,
   "metadata": {},
   "outputs": [],
   "source": [
    "import requests\n",
    "string = input('Enter a string')\n",
    "try:\n",
    "    r = requests.get(f'https://cataas.com/cat/says/{string}', timeout=5)\n",
    "except TimeoutError:\n",
    "    print('No response')\n",
    "with open('test.jpg', 'wb') as f:\n",
    "    f.write(r.content)"
   ]
  },
  {
   "cell_type": "code",
   "execution_count": 39,
   "metadata": {},
   "outputs": [],
   "source": [
    "r = requests.get(f'https://dog.ceo/api/breeds/image/random')\n",
    "link = r.json()['message']\n",
    "r2 = requests.get(link)\n",
    "with open('test.jpg', 'wb') as f:\n",
    "    f.write(r2.content)"
   ]
  },
  {
   "cell_type": "code",
   "execution_count": 81,
   "metadata": {},
   "outputs": [],
   "source": [
    "import os\n",
    "import random\n",
    "\n",
    "breeds = list(requests.get('https://dog.ceo/api/breeds/list/all').json()['message'].keys())\n",
    "\n",
    "breed_count = 3\n",
    "my_breeds = random.choices(breeds, k = 3)\n",
    "\n",
    "for b in my_breeds:\n",
    "    os.makedirs(f'images/{b}', exist_ok=True)\n",
    "    r = requests.get(f'https://dog.ceo/api/breed/{b}/images/random/{breed_count}')\n",
    "    for i, link in enumerate(r.json()['message']):\n",
    "        ext = link.split('.')[-1]\n",
    "        r2 = requests.get(link)\n",
    "        with open(f'images/{b}/{i + 1}.{ext}', 'wb') as f:\n",
    "            f.write(r2.content)"
   ]
  }
 ],
 "metadata": {
  "kernelspec": {
   "display_name": "Python 3",
   "language": "python",
   "name": "python3"
  },
  "language_info": {
   "codemirror_mode": {
    "name": "ipython",
    "version": 3
   },
   "file_extension": ".py",
   "mimetype": "text/x-python",
   "name": "python",
   "nbconvert_exporter": "python",
   "pygments_lexer": "ipython3",
   "version": "3.9.0"
  }
 },
 "nbformat": 4,
 "nbformat_minor": 2
}
