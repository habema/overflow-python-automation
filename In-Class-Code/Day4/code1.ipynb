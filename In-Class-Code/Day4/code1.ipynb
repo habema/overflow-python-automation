{
 "cells": [
  {
   "cell_type": "code",
   "execution_count": 85,
   "metadata": {},
   "outputs": [],
   "source": [
    "import os\n",
    "import shutil\n",
    "import requests\n",
    "\n",
    "p = {\n",
    "    'q': 'mars',\n",
    "    'media_type': 'image',\n",
    "    'year_start': '1990',\n",
    "    'year_end': '1995'\n",
    "}\n",
    "r = requests.get('https://images-api.nasa.gov/search', params=p)\n",
    "\n",
    "if os.path.exists('images'):\n",
    "    shutil.rmtree('images')\n",
    "os.mkdir('images')\n",
    "\n",
    "for obj in r.json()['collection']['items'][:10]:\n",
    "\n",
    "    href_link = obj['href']\n",
    "    title = obj['data'][0]['title']\n",
    "    nasa_id = obj['data'][0]['nasa_id']\n",
    "\n",
    "    orig_link = requests.get(href_link).json()[0]\n",
    "    ext = orig_link.split('.')[-1]\n",
    "    img_req = requests.get(orig_link)\n",
    "    with open(f'images/{title}_{nasa_id}.{ext}', 'wb') as f:\n",
    "        f.write(img_req.content)"
   ]
  }
 ],
 "metadata": {
  "kernelspec": {
   "display_name": "Python 3",
   "language": "python",
   "name": "python3"
  },
  "language_info": {
   "codemirror_mode": {
    "name": "ipython",
    "version": 3
   },
   "file_extension": ".py",
   "mimetype": "text/x-python",
   "name": "python",
   "nbconvert_exporter": "python",
   "pygments_lexer": "ipython3",
   "version": "3.9.0"
  }
 },
 "nbformat": 4,
 "nbformat_minor": 2
}
